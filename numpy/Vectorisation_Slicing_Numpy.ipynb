{
 "cells": [
  {
   "attachments": {},
   "cell_type": "markdown",
   "metadata": {
    "id": "hQ8IViM18A92"
   },
   "source": [
    "# Vectorization\n",
    "\n",
    "Vectorization is a technique used in NumPy to perform mathematical operations on entire arrays of data, rather than on individual elements. By using vectorization, we can significantly improve the performance of our code and make it more efficient.\n",
    "\n",
    "**Why is vectorized code more efficient?**\n",
    "\n",
    "There are many factors that contribute to vectorized code being more efficient, but in this class we can discuss two of them:\n",
    "\n",
    "1. Number of operations for vectorized code <<< serialized code [assuming homogenous data]\n",
    "2. Batch operations are often implemented in a faster language at the backend. For example, NumPy and Pandas use C in the backend to perform batch operations on homogenous data.\n",
    "\n",
    "For example, if we were to multiply two lists of numbers in serialized and vectorized ways, this is what it would look like:\n",
    "\n",
    "![Vectorized operations.png](data:image/png;base64,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)\n",
    "\n",
    "\n",
    "\n"
   ]
  },
  {
   "attachments": {},
   "cell_type": "markdown",
   "metadata": {
    "id": "YqOWrZ2gmNLh"
   },
   "source": [
    "# Problem Statement: Temperature Data set\n",
    "Recall the temperature data set that you explored and manipulated using function programming methods in Python.You are provided with data of hourly temperature readings for seven consecutive days(Mon-Sun) for a particular week in Seattle. Let's now use this data set to perform the same tasks as you did using functional programming methods."
   ]
  },
  {
   "cell_type": "code",
   "execution_count": 1,
   "metadata": {
    "id": "cDOZyCPwlwHW"
   },
   "outputs": [],
   "source": [
    "# Hourly temperature data for a week in Kelvin\n",
    "temp_list = [\n",
    "            [281.72, 281.72, 281.71, 281.70, 281.69, 281.69, 281.68, 281.67, 281.66, 281.66, 281.65, 281.64, 281.63, 281.63, 281.62, 282.71, 285.05, 287.97, 290.61, 292.06, 293.68, 295.32, 295.18, 296.11],\n",
    "            [295.24, 294.38, 292.28, 291.12, 289.93, 287.87, 287.14, 286.54, 286.16, 285.31, 284.30, 283.96, 283.60, 283.23, 283.50, 284.57, 285.64, 286.71, 287.42, 288.61, 289.13, 289.41, 289.18, 288.95],\n",
    "            [288.79, 287.47, 286.01, 284.85, 283.91, 283.31, 283.07, 283.15, 282.51, 281.98, 281.49, 281.14, 280.59, 279.65, 279.15, 279.72, 282.40, 284.72, 286.03, 287.19, 288.68, 289.56, 290.05, 289.98],\n",
    "            [289.60, 288.40, 286.38, 285.56, 284.45, 283.92, 283.25, 282.59, 281.92, 281.78, 281.63, 281.08, 280.64, 281.14, 280.08, 280.70, 282.98, 284.62, 286.61, 287.45, 289.22, 290.21, 289.94, 290.01],\n",
    "            [289.85, 288.82, 287.60, 285.82, 284.58, 284.12, 283.63, 282.98, 282.68, 282.38, 281.77, 281.47, 281.06, 280.55, 280.65, 281.00, 283.49, 286.17, 287.58, 289.49, 292.11, 292.85, 292.69, 292.85],\n",
    "            [292.05, 290.34, 288.05, 286.46, 285.37, 285.04, 284.38, 283.73, 283.07, 282.87, 280.77, 280.32, 280.01, 279.77, 279.54, 279.63, 282.48, 287.17, 289.47, 291.63, 293.42, 293.95, 294.78, 294.10],\n",
    "            [293.62, 291.88, 290.03, 288.43, 287.15, 286.78, 286.32, 285.17, 283.78, 282.96, 282.93, 281.96, 282.02, 281.26, 280.25, 281.01, 283.15, 286.49, 289.87, 291.42, 292.46, 293.35, 294.32, 294.85],         \n",
    "             ]"
   ]
  },
  {
   "cell_type": "code",
   "execution_count": 2,
   "metadata": {
    "id": "TcL-vKtF3GmD"
   },
   "outputs": [],
   "source": [
    "import numpy as np"
   ]
  },
  {
   "cell_type": "code",
   "execution_count": 3,
   "metadata": {
    "id": "3HM7RnyfZCfi"
   },
   "outputs": [
    {
     "data": {
      "text/plain": [
       "array([[281.72, 281.72, 281.71, 281.7 , 281.69, 281.69, 281.68, 281.67,\n",
       "        281.66, 281.66, 281.65, 281.64, 281.63, 281.63, 281.62, 282.71,\n",
       "        285.05, 287.97, 290.61, 292.06, 293.68, 295.32, 295.18, 296.11],\n",
       "       [295.24, 294.38, 292.28, 291.12, 289.93, 287.87, 287.14, 286.54,\n",
       "        286.16, 285.31, 284.3 , 283.96, 283.6 , 283.23, 283.5 , 284.57,\n",
       "        285.64, 286.71, 287.42, 288.61, 289.13, 289.41, 289.18, 288.95],\n",
       "       [288.79, 287.47, 286.01, 284.85, 283.91, 283.31, 283.07, 283.15,\n",
       "        282.51, 281.98, 281.49, 281.14, 280.59, 279.65, 279.15, 279.72,\n",
       "        282.4 , 284.72, 286.03, 287.19, 288.68, 289.56, 290.05, 289.98],\n",
       "       [289.6 , 288.4 , 286.38, 285.56, 284.45, 283.92, 283.25, 282.59,\n",
       "        281.92, 281.78, 281.63, 281.08, 280.64, 281.14, 280.08, 280.7 ,\n",
       "        282.98, 284.62, 286.61, 287.45, 289.22, 290.21, 289.94, 290.01],\n",
       "       [289.85, 288.82, 287.6 , 285.82, 284.58, 284.12, 283.63, 282.98,\n",
       "        282.68, 282.38, 281.77, 281.47, 281.06, 280.55, 280.65, 281.  ,\n",
       "        283.49, 286.17, 287.58, 289.49, 292.11, 292.85, 292.69, 292.85],\n",
       "       [292.05, 290.34, 288.05, 286.46, 285.37, 285.04, 284.38, 283.73,\n",
       "        283.07, 282.87, 280.77, 280.32, 280.01, 279.77, 279.54, 279.63,\n",
       "        282.48, 287.17, 289.47, 291.63, 293.42, 293.95, 294.78, 294.1 ],\n",
       "       [293.62, 291.88, 290.03, 288.43, 287.15, 286.78, 286.32, 285.17,\n",
       "        283.78, 282.96, 282.93, 281.96, 282.02, 281.26, 280.25, 281.01,\n",
       "        283.15, 286.49, 289.87, 291.42, 292.46, 293.35, 294.32, 294.85]])"
      ]
     },
     "execution_count": 3,
     "metadata": {},
     "output_type": "execute_result"
    }
   ],
   "source": [
    "temp_k = np.array(temp_list)\n",
    "temp_k"
   ]
  },
  {
   "cell_type": "code",
   "execution_count": 5,
   "metadata": {
    "colab": {
     "base_uri": "https://localhost:8080/"
    },
    "id": "kui5b8qFaLTf",
    "outputId": "77ede25f-bcc2-48fe-dab9-554ab895e11c"
   },
   "outputs": [
    {
     "data": {
      "text/plain": [
       "array([[ 8.57,  8.57,  8.56,  8.55,  8.54,  8.54,  8.53,  8.52,  8.51,\n",
       "         8.51,  8.5 ,  8.49,  8.48,  8.48,  8.47,  9.56, 11.9 , 14.82,\n",
       "        17.46, 18.91, 20.53, 22.17, 22.03, 22.96],\n",
       "       [22.09, 21.23, 19.13, 17.97, 16.78, 14.72, 13.99, 13.39, 13.01,\n",
       "        12.16, 11.15, 10.81, 10.45, 10.08, 10.35, 11.42, 12.49, 13.56,\n",
       "        14.27, 15.46, 15.98, 16.26, 16.03, 15.8 ],\n",
       "       [15.64, 14.32, 12.86, 11.7 , 10.76, 10.16,  9.92, 10.  ,  9.36,\n",
       "         8.83,  8.34,  7.99,  7.44,  6.5 ,  6.  ,  6.57,  9.25, 11.57,\n",
       "        12.88, 14.04, 15.53, 16.41, 16.9 , 16.83],\n",
       "       [16.45, 15.25, 13.23, 12.41, 11.3 , 10.77, 10.1 ,  9.44,  8.77,\n",
       "         8.63,  8.48,  7.93,  7.49,  7.99,  6.93,  7.55,  9.83, 11.47,\n",
       "        13.46, 14.3 , 16.07, 17.06, 16.79, 16.86],\n",
       "       [16.7 , 15.67, 14.45, 12.67, 11.43, 10.97, 10.48,  9.83,  9.53,\n",
       "         9.23,  8.62,  8.32,  7.91,  7.4 ,  7.5 ,  7.85, 10.34, 13.02,\n",
       "        14.43, 16.34, 18.96, 19.7 , 19.54, 19.7 ],\n",
       "       [18.9 , 17.19, 14.9 , 13.31, 12.22, 11.89, 11.23, 10.58,  9.92,\n",
       "         9.72,  7.62,  7.17,  6.86,  6.62,  6.39,  6.48,  9.33, 14.02,\n",
       "        16.32, 18.48, 20.27, 20.8 , 21.63, 20.95],\n",
       "       [20.47, 18.73, 16.88, 15.28, 14.  , 13.63, 13.17, 12.02, 10.63,\n",
       "         9.81,  9.78,  8.81,  8.87,  8.11,  7.1 ,  7.86, 10.  , 13.34,\n",
       "        16.72, 18.27, 19.31, 20.2 , 21.17, 21.7 ]])"
      ]
     },
     "execution_count": 5,
     "metadata": {},
     "output_type": "execute_result"
    }
   ],
   "source": [
    "# Converting temperature data from Kelvin to Celsius\n"
   ]
  },
  {
   "cell_type": "code",
   "execution_count": 6,
   "metadata": {
    "colab": {
     "base_uri": "https://localhost:8080/"
    },
    "id": "fUPFGTH8HqfO",
    "outputId": "70cc7730-5dab-4f67-f79b-bbbd0601632e"
   },
   "outputs": [
    {
     "name": "stdout",
     "output_type": "stream",
     "text": [
      "[[47.426 47.426 47.408 47.39  47.372 47.372 47.354 47.336 47.318 47.318\n",
      "  47.3   47.282 47.264 47.264 47.246 49.208 53.42  58.676 63.428 66.038\n",
      "  68.954 71.906 71.654 73.328]\n",
      " [71.762 70.214 66.434 64.346 62.204 58.496 57.182 56.102 55.418 53.888\n",
      "  52.07  51.458 50.81  50.144 50.63  52.556 54.482 56.408 57.686 59.828\n",
      "  60.764 61.268 60.854 60.44 ]\n",
      " [60.152 57.776 55.148 53.06  51.368 50.288 49.856 50.    48.848 47.894\n",
      "  47.012 46.382 45.392 43.7   42.8   43.826 48.65  52.826 55.184 57.272\n",
      "  59.954 61.538 62.42  62.294]\n",
      " [61.61  59.45  55.814 54.338 52.34  51.386 50.18  48.992 47.786 47.534\n",
      "  47.264 46.274 45.482 46.382 44.474 45.59  49.694 52.646 56.228 57.74\n",
      "  60.926 62.708 62.222 62.348]\n",
      " [62.06  60.206 58.01  54.806 52.574 51.746 50.864 49.694 49.154 48.614\n",
      "  47.516 46.976 46.238 45.32  45.5   46.13  50.612 55.436 57.974 61.412\n",
      "  66.128 67.46  67.172 67.46 ]\n",
      " [66.02  62.942 58.82  55.958 53.996 53.402 52.214 51.044 49.856 49.496\n",
      "  45.716 44.906 44.348 43.916 43.502 43.664 48.794 57.236 61.376 65.264\n",
      "  68.486 69.44  70.934 69.71 ]\n",
      " [68.846 65.714 62.384 59.504 57.2   56.534 55.706 53.636 51.134 49.658\n",
      "  49.604 47.858 47.966 46.598 44.78  46.148 50.    56.012 62.096 64.886\n",
      "  66.758 68.36  70.106 71.06 ]]\n"
     ]
    }
   ],
   "source": [
    "# Converting temperature from deg C to deg F\n"
   ]
  },
  {
   "cell_type": "code",
   "execution_count": 13,
   "metadata": {
    "colab": {
     "base_uri": "https://localhost:8080/"
    },
    "id": "MKOMrVodI26y",
    "outputId": "37dfb71a-83c0-46cf-d71f-10f3a5487c7c"
   },
   "outputs": [
    {
     "name": "stdout",
     "output_type": "stream",
     "text": [
      "The temperature on Day 4 at Hour 2 is 15.25 deg C\n"
     ]
    }
   ],
   "source": [
    "# Temperature for a certain hour on a certain day\n"
   ]
  },
  {
   "cell_type": "code",
   "execution_count": 24,
   "metadata": {},
   "outputs": [
    {
     "data": {
      "text/plain": [
       "array([[False, False, False, False, False, False, False, False, False,\n",
       "        False, False, False, False, False, False, False, False, False,\n",
       "        False, False, False,  True,  True,  True],\n",
       "       [ True, False, False, False, False, False, False, False, False,\n",
       "        False, False, False, False, False, False, False, False, False,\n",
       "        False, False, False, False, False, False],\n",
       "       [False, False, False, False, False, False, False, False, False,\n",
       "        False, False, False, False, False, False, False, False, False,\n",
       "        False, False, False, False, False, False],\n",
       "       [False, False, False, False, False, False, False, False, False,\n",
       "        False, False, False, False, False, False, False, False, False,\n",
       "        False, False, False, False, False, False],\n",
       "       [False, False, False, False, False, False, False, False, False,\n",
       "        False, False, False, False, False, False, False, False, False,\n",
       "        False, False, False, False, False, False],\n",
       "       [False, False, False, False, False, False, False, False, False,\n",
       "        False, False, False, False, False, False, False, False, False,\n",
       "        False, False, False, False, False, False],\n",
       "       [False, False, False, False, False, False, False, False, False,\n",
       "        False, False, False, False, False, False, False, False, False,\n",
       "        False, False, False, False, False, False]])"
      ]
     },
     "execution_count": 24,
     "metadata": {},
     "output_type": "execute_result"
    }
   ],
   "source": []
  },
  {
   "cell_type": "code",
   "execution_count": 21,
   "metadata": {
    "colab": {
     "base_uri": "https://localhost:8080/"
    },
    "id": "dC-PCQWLKDRc",
    "outputId": "3054f6c9-f35f-4db6-eebf-2a55a888f4fc"
   },
   "outputs": [
    {
     "name": "stdout",
     "output_type": "stream",
     "text": [
      "Number of hours the temperature was above 22 degrees Celsius is 4\n"
     ]
    }
   ],
   "source": [
    "# num_hours temp was above 22 deg C\n"
   ]
  },
  {
   "cell_type": "code",
   "execution_count": 22,
   "metadata": {
    "colab": {
     "base_uri": "https://localhost:8080/"
    },
    "id": "pURVdMfmNHBB",
    "outputId": "9e99a661-d42d-40b6-b00a-ae409a61c31b"
   },
   "outputs": [
    {
     "data": {
      "text/plain": [
       "4"
      ]
     },
     "execution_count": 22,
     "metadata": {},
     "output_type": "execute_result"
    }
   ],
   "source": [
    "# num_hours temp was above X deg C, where X is a function input\n"
   ]
  },
  {
   "cell_type": "code",
   "execution_count": 23,
   "metadata": {},
   "outputs": [
    {
     "data": {
      "text/plain": [
       "14"
      ]
     },
     "execution_count": 23,
     "metadata": {},
     "output_type": "execute_result"
    }
   ],
   "source": []
  },
  {
   "cell_type": "code",
   "execution_count": 32,
   "metadata": {},
   "outputs": [
    {
     "data": {
      "text/plain": [
       "105"
      ]
     },
     "execution_count": 32,
     "metadata": {},
     "output_type": "execute_result"
    }
   ],
   "source": []
  },
  {
   "cell_type": "code",
   "execution_count": 34,
   "metadata": {},
   "outputs": [
    {
     "data": {
      "text/plain": [
       "105"
      ]
     },
     "execution_count": 34,
     "metadata": {},
     "output_type": "execute_result"
    }
   ],
   "source": []
  },
  {
   "cell_type": "code",
   "execution_count": 36,
   "metadata": {
    "colab": {
     "base_uri": "https://localhost:8080/"
    },
    "id": "sscbESoSNQS8",
    "outputId": "2ae070b3-a298-42eb-d33d-18ae74aaf080"
   },
   "outputs": [
    {
     "name": "stdout",
     "output_type": "stream",
     "text": [
      "Number of hours when the temperature was between 10 and 25 degrees Celsius is 105\n"
     ]
    }
   ],
   "source": [
    "# num_hours temp was between 10 and 25 deg C\n"
   ]
  },
  {
   "cell_type": "code",
   "execution_count": 37,
   "metadata": {
    "colab": {
     "base_uri": "https://localhost:8080/"
    },
    "id": "Jq1BZUN7Pl7X",
    "outputId": "0282e8cd-58ad-48c5-8d3c-21371be950f1"
   },
   "outputs": [
    {
     "name": "stdout",
     "output_type": "stream",
     "text": [
      "105\n"
     ]
    }
   ],
   "source": [
    "# num_hours temp was between X and Y deg C (X,Y = func input)\n"
   ]
  },
  {
   "cell_type": "code",
   "execution_count": 60,
   "metadata": {
    "colab": {
     "base_uri": "https://localhost:8080/"
    },
    "id": "al3--ozFP8RR",
    "outputId": "593ffab4-290c-44f4-d6b3-20ea77bbcda0"
   },
   "outputs": [
    {
     "data": {
      "text/plain": [
       "True"
      ]
     },
     "execution_count": 60,
     "metadata": {},
     "output_type": "execute_result"
    }
   ],
   "source": [
    "# Was the temp ever recorded as exactly 11 deg C for any hour on day 3?\n",
    "# Remember to round temperature values before comparing\n"
   ]
  },
  {
   "cell_type": "code",
   "execution_count": 61,
   "metadata": {
    "colab": {
     "base_uri": "https://localhost:8080/"
    },
    "id": "8Wo_sfYtQbUR",
    "outputId": "c2b0e699-a0d6-4b1d-d8d1-e42ceff21992"
   },
   "outputs": [
    {
     "data": {
      "text/plain": [
       "True"
      ]
     },
     "execution_count": 61,
     "metadata": {},
     "output_type": "execute_result"
    }
   ],
   "source": [
    "# Was the temp ever recorded as exactly X deg C for any hour on day Y?\n",
    "# Remember to round temperature values before comparing\n",
    "# Create a function\n"
   ]
  },
  {
   "attachments": {},
   "cell_type": "markdown",
   "metadata": {
    "id": "IjzHRaufKHkJ"
   },
   "source": [
    "Highest temp on a day"
   ]
  },
  {
   "cell_type": "code",
   "execution_count": null,
   "metadata": {
    "colab": {
     "base_uri": "https://localhost:8080/"
    },
    "id": "pLymYKZpJkqC",
    "outputId": "4f2868ad-7b82-4c52-c45f-c0f68295e946"
   },
   "outputs": [
    {
     "name": "stdout",
     "output_type": "stream",
     "text": [
      "Maximum temperature for day 0 is 22.96 degree Celsius\n",
      "Maximum temperature for day 1 is 22.09 degree Celsius\n",
      "Maximum temperature for day 2 is 16.9 degree Celsius\n",
      "Maximum temperature for day 3 is 17.06 degree Celsius\n",
      "Maximum temperature for day 4 is 19.7 degree Celsius\n",
      "Maximum temperature for day 5 is 21.63 degree Celsius\n",
      "Maximum temperature for day 6 is 21.7 degree Celsius\n"
     ]
    }
   ],
   "source": []
  },
  {
   "cell_type": "code",
   "execution_count": null,
   "metadata": {
    "colab": {
     "base_uri": "https://localhost:8080/"
    },
    "id": "SYqJpYaARCid",
    "outputId": "69435ddb-3fe0-4ca0-a595-34148e46f38f"
   },
   "outputs": [
    {
     "name": "stdout",
     "output_type": "stream",
     "text": [
      "Hour of highest temperature for day 0 is 23\n",
      "Hour of highest temperature for day 1 is 0\n",
      "Hour of highest temperature for day 2 is 22\n",
      "Hour of highest temperature for day 3 is 21\n",
      "Hour of highest temperature for day 4 is 21\n",
      "Hour of highest temperature for day 5 is 22\n",
      "Hour of highest temperature for day 6 is 23\n"
     ]
    }
   ],
   "source": [
    "# Hour of highest temp\n"
   ]
  },
  {
   "cell_type": "code",
   "execution_count": null,
   "metadata": {
    "colab": {
     "base_uri": "https://localhost:8080/"
    },
    "id": "RAlbmt4APxUK",
    "outputId": "bb45d225-3f5b-4623-a266-0b2356d56cf2"
   },
   "outputs": [
    {
     "name": "stdout",
     "output_type": "stream",
     "text": [
      "Number of hours the temperature was between 19 and 21 degrees Celsius is 11\n"
     ]
    }
   ],
   "source": [
    "# num_hours temp was between 19 and 21 deg C\n"
   ]
  },
  {
   "cell_type": "code",
   "execution_count": null,
   "metadata": {
    "colab": {
     "base_uri": "https://localhost:8080/"
    },
    "id": "a9UR-hXDQHYB",
    "outputId": "ccd50370-8a5f-4066-e32d-1dc5743101de"
   },
   "outputs": [],
   "source": [
    "# num_hours temp was between X-1 and X+1 deg C (X = func input)\n"
   ]
  },
  {
   "cell_type": "code",
   "execution_count": null,
   "metadata": {
    "id": "t9hvTj73a7tf"
   },
   "outputs": [],
   "source": []
  }
 ],
 "metadata": {
  "colab": {
   "provenance": []
  },
  "kernelspec": {
   "display_name": "Python 3 (ipykernel)",
   "language": "python",
   "name": "python3"
  },
  "language_info": {
   "codemirror_mode": {
    "name": "ipython",
    "version": 3
   },
   "file_extension": ".py",
   "mimetype": "text/x-python",
   "name": "python",
   "nbconvert_exporter": "python",
   "pygments_lexer": "ipython3",
   "version": "3.9.12"
  }
 },
 "nbformat": 4,
 "nbformat_minor": 1
}
